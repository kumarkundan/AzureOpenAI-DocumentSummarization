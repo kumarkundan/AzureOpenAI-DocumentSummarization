{
 "cells": [
  {
   "cell_type": "markdown",
   "id": "a140f989-e956-4d8c-9621-eaac053e4029",
   "metadata": {},
   "source": [
    "# Azure OpenAI - Progressive Document Summarization\n",
    "\n",
    "OpenAI's GPT-3 model affords state-of-the-art language processing capabilities to generate concise and informative summaries of longer documents. For enterprises, using the Azure OpenAI service allows users to harness this cutting edge ML technology while maintaining a strong security posture. Generating summaries of long-form text can provide meaningful insights across multiple domains, however users are currently limited in the size of text that can be summarized in a single call to OpenAI's models.\n",
    "\n",
    "The notebook below demonstrates a \"progressive document summarization\" approach where multiple documents are recursively summarized to generate a final summary report. This is showcased by generating a summary of Jules Verne's 20,000 Leagues Under the Sea - available in the public domain and [accessible online via the Gutenberg Project](https://www.gutenberg.org/files/164/164-h/164-h.htm). Each chapter is retrieved as a standalone document and subsequently summarized prior to generating a final \"book summary.\" Here, recursive calls are made to ensure token limits are maintained with each call to the AOAI API."
   ]
  },
  {
   "cell_type": "markdown",
   "id": "ad50599c-ec09-4963-abd2-53e5cad23c15",
   "metadata": {},
   "source": [
    "### Import required packages (see conda.yml enviornment definition)"
   ]
  },
  {
   "cell_type": "code",
   "execution_count": 1,
   "id": "e6db2060-3557-4e85-a29a-5135549a01ec",
   "metadata": {},
   "outputs": [
    {
     "data": {
      "text/plain": [
       "True"
      ]
     },
     "execution_count": 1,
     "metadata": {},
     "output_type": "execute_result"
    }
   ],
   "source": [
    "import requests\n",
    "from bs4 import BeautifulSoup\n",
    "import os\n",
    "from dotenv import load_dotenv\n",
    "import tiktoken\n",
    "\n",
    "# Load environment variables from .env file\n",
    "dotenv_path = os.path.join(os.getcwd(), 'env')\n",
    "load_dotenv(dotenv_path)"
   ]
  },
  {
   "cell_type": "markdown",
   "id": "64fab60c-d858-4a0b-acbd-5ec2498a3586",
   "metadata": {},
   "source": [
    "### Document summarization helper functions"
   ]
  },
  {
   "cell_type": "code",
   "execution_count": 2,
   "id": "abde5a39-8e98-40e7-b939-b0031bd95ca5",
   "metadata": {},
   "outputs": [
    {
     "name": "stderr",
     "output_type": "stream",
     "text": [
      "[nltk_data] Downloading package punkt to /home/azureuser/nltk_data...\n",
      "[nltk_data]   Package punkt is already up-to-date!\n"
     ]
    }
   ],
   "source": [
    "import nltk\n",
    "from nltk.tokenize import sent_tokenize\n",
    "nltk.download('punkt')\n",
    "\n",
    "def prompt_openai(doc):\n",
    "    import openai\n",
    "    openai.api_type = \"azure\"\n",
    "    openai.api_base = os.getenv('OPENAI_BASE')\n",
    "    openai.api_version = \"2022-12-01\"\n",
    "    openai.api_key = os.getenv(\"OPENAI_KEY\")\n",
    "\n",
    "    prompt = f\"\"\"\n",
    "    Create a summary of the text below.\n",
    "\n",
    "    '{doc}'\n",
    "    \"\"\"\n",
    "\n",
    "    response = openai.Completion.create(\n",
    "        engine=os.getenv('OPENAI_DEPLOYMENT'),\n",
    "        prompt=prompt,\n",
    "        temperature=0.5,\n",
    "        max_tokens=1096,\n",
    "        top_p=0.5,\n",
    "        frequency_penalty=0,\n",
    "        presence_penalty=0,\n",
    "        stop=None\n",
    "    )\n",
    "\n",
    "    return response['choices'][0]['text'].replace('\\n', '').replace(' .', '.').strip()\n",
    "\n",
    "def estimate_token_count(text):\n",
    "    encoding = tiktoken.get_encoding('gpt2')\n",
    "    num_tokens = len(encoding.encode(text))\n",
    "    return num_tokens\n",
    "\n",
    "def split_document(text, out_documents):\n",
    "    tc = estimate_token_count(text)\n",
    "    if tc > 2500:\n",
    "        sentences = list(sent_tokenize(text))\n",
    "        midpoint = int(len(sentences)/2)\n",
    "        chunk_1 = ' '.join(sentences[0:midpoint])\n",
    "        chunk_2 = ' '.join(sentences[midpoint:])\n",
    "        split_document(chunk_1, out_documents)\n",
    "        split_document(chunk_2, out_documents)\n",
    "    else:\n",
    "        out_documents.append(text)\n",
    "\n",
    "def summarize_all_documents(documents):\n",
    "    summarized_docs = []\n",
    "    for index, doc in enumerate(documents):\n",
    "        print(str(index) + '/' + str(len(documents)))\n",
    "        split_documents = []\n",
    "        split_document(doc, split_documents)\n",
    "        for sdoc in split_documents:\n",
    "            summarized_docs.append(str(prompt_openai(sdoc)))\n",
    "    return summarized_docs\n",
    "\n",
    "def create_single_summary(documents):\n",
    "    summaries = summarize_all_documents(documents)\n",
    "    if len(summaries)==1:\n",
    "        return summaries[0]\n",
    "    else:\n",
    "        return create_single_summary([' '.join(summaries)])\n"
   ]
  },
  {
   "cell_type": "markdown",
   "id": "ab380baa-12de-4cd9-b153-060d2f8dc37b",
   "metadata": {},
   "source": [
    "### Document retrieval\n",
    "\n",
    "Each chapter in Jules Verne's 20,000 Leagues Under the Sea is included as a separate document initially"
   ]
  },
  {
   "cell_type": "code",
   "execution_count": 3,
   "id": "596567a7-36b9-4d58-ae48-061822c9532c",
   "metadata": {},
   "outputs": [],
   "source": [
    "documents = []\n",
    "\n",
    "resp = requests.get('https://www.gutenberg.org/files/164/164-h/164-h.htm')\n",
    "soup = BeautifulSoup(resp.text, 'html.parser')\n",
    "chapters = soup.find_all('div', class_='chapter')\n",
    "for c in chapters:\n",
    "    if len(c.text)>100:\n",
    "        documents.append(c.text)"
   ]
  },
  {
   "cell_type": "markdown",
   "id": "93b64083-f4b7-4ddd-8f81-3741f563f9d1",
   "metadata": {},
   "source": [
    "### Document summarization\n",
    "\n",
    "All documents are recursively summarized and merged before generating a final consolidated summary. This approach can be modified for business tasks like user-feedback consolidation, competitive analysis, maintenance summarization, etc. "
   ]
  },
  {
   "cell_type": "code",
   "execution_count": 4,
   "id": "5c36ce81-f0d9-4fa6-8e7f-8e6ac65f5b03",
   "metadata": {},
   "outputs": [
    {
     "name": "stdout",
     "output_type": "stream",
     "text": [
      "0/46\n",
      "1/46\n",
      "2/46\n",
      "3/46\n",
      "4/46\n",
      "5/46\n",
      "6/46\n",
      "7/46\n",
      "8/46\n",
      "9/46\n",
      "10/46\n",
      "11/46\n",
      "12/46\n",
      "13/46\n",
      "14/46\n",
      "15/46\n",
      "16/46\n",
      "17/46\n",
      "18/46\n",
      "19/46\n",
      "20/46\n",
      "21/46\n",
      "22/46\n",
      "23/46\n",
      "24/46\n",
      "25/46\n",
      "26/46\n",
      "27/46\n",
      "28/46\n",
      "29/46\n",
      "30/46\n",
      "31/46\n",
      "32/46\n",
      "33/46\n",
      "34/46\n",
      "35/46\n",
      "36/46\n",
      "37/46\n",
      "38/46\n",
      "39/46\n",
      "40/46\n",
      "41/46\n",
      "42/46\n",
      "43/46\n",
      "44/46\n",
      "45/46\n",
      "0/1\n",
      "0/1\n",
      "Pierre Aronnax, a professor from the Museum of Natural History in Paris, joins an expedition to hunt a giant narwhal in the North Pacific Ocean. After three months of searching, the crew spots the narwhal and prepares for battle. Pierre and Conseil are lost at sea after the frigate they were on collides with the narwhal. They are rescued by a submarine boat and taken to the Nautilus, a powerful submarine vessel owned by Captain Nemo. The vessel is powered by electricity and is equipped with a kitchen, bathroom, and berthroom. The passengers explore the ocean floor and a submarine forest, encountering a variety of flora and fauna. They navigate the dangerous waters of the Torres Straits and the Indian Ocean, encountering various species of fish, molluscs, and zoophytes. They pass by the reefs where Captain Cook's vessel was lost and eventually enter the Mediterranean. The Nautilus is pursued by a warship, which Nemo sinks, and the crew eventually escapes in a boat. Pierre Aronnax and his companions experience a thrilling journey under the sea, encountering a variety of sea creatures and marveling at the wonders of the ocean.\n"
     ]
    }
   ],
   "source": [
    "book_summary = create_single_summary(documents)\n",
    "\n",
    "print(book_summary)"
   ]
  }
 ],
 "metadata": {
  "kernelspec": {
   "display_name": "OpenAI",
   "language": "python",
   "name": "openai_env"
  },
  "language_info": {
   "codemirror_mode": {
    "name": "ipython",
    "version": 3
   },
   "file_extension": ".py",
   "mimetype": "text/x-python",
   "name": "python",
   "nbconvert_exporter": "python",
   "pygments_lexer": "ipython3",
   "version": "3.8.16"
  }
 },
 "nbformat": 4,
 "nbformat_minor": 5
}
